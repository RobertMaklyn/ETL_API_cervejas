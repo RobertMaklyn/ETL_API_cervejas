{
 "cells": [
  {
   "cell_type": "code",
   "execution_count": 0,
   "metadata": {
    "application/vnd.databricks.v1+cell": {
     "cellMetadata": {
      "byteLimit": 2048000,
      "rowLimit": 10000
     },
     "inputWidgets": {},
     "nuid": "b108562d-1341-4d08-90fa-e334e2257f5a",
     "showTitle": false,
     "title": ""
    }
   },
   "outputs": [],
   "source": [
    "df_prata = spark.read.json('/mnt/cervejas/bronze/cervejas')\n",
    "df_prata.write.partitionBy('state').mode('overwrite').format('delta').save('/mnt/cervejas/prata/cervejas_prata')"
   ]
  }
 ],
 "metadata": {
  "application/vnd.databricks.v1+notebook": {
   "dashboards": [],
   "environmentMetadata": null,
   "language": "python",
   "notebookMetadata": {
    "pythonIndentUnit": 4
   },
   "notebookName": "prata",
   "widgets": {}
  }
 },
 "nbformat": 4,
 "nbformat_minor": 0
}
