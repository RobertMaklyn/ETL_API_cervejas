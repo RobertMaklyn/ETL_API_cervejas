{
 "cells": [
  {
   "cell_type": "code",
   "execution_count": 0,
   "metadata": {
    "application/vnd.databricks.v1+cell": {
     "cellMetadata": {
      "byteLimit": 2048000,
      "rowLimit": 10000
     },
     "inputWidgets": {},
     "nuid": "9bbc78bc-6437-4d66-bd3e-6b4045f648e5",
     "showTitle": false,
     "title": ""
    }
   },
   "outputs": [
    {
     "output_type": "stream",
     "name": "stdout",
     "output_type": "stream",
     "text": [
      "/mnt/cervejas já está montado\n"
     ]
    }
   ],
   "source": [
    "scope = \"kv-cerveja\"\n",
    "key = \"cervejas\"\n",
    "storage_account_name = \"stgbeer\"\n",
    "container_name = \"cervejas\"\n",
    "mount_point = '/mnt/cervejas'\n",
    "\n",
    "\n",
    "if not any(mount.mountPoint == mount_point for mount in dbutils.fs.mounts()):\n",
    "  \n",
    "  connect_str = dbutils.secrets.get(scope=scope, key=key)\n",
    "\n",
    "  dbutils.fs.mount(\n",
    "    source=f\"wasbs://{container_name}@{storage_account_name}.blob.core.windows.net\",\n",
    "    mount_point=mount_point,\n",
    "    extra_configs={\n",
    "      f\"fs.azure.account.key.{storage_account_name}.blob.core.windows.net\": connect_str\n",
    "    }\n",
    "  )\n",
    "  print(f\"Mounted {mount_point}\")\n",
    "else:\n",
    "  print(f\"{mount_point} já está montado\")"
   ]
  },
  {
   "cell_type": "code",
   "execution_count": 0,
   "metadata": {
    "application/vnd.databricks.v1+cell": {
     "cellMetadata": {
      "byteLimit": 2048000,
      "rowLimit": 10000
     },
     "inputWidgets": {},
     "nuid": "48277287-a577-48b6-923d-f46c4b74e3a2",
     "showTitle": false,
     "title": ""
    }
   },
   "outputs": [
    {
     "output_type": "display_data",
     "data": {
      "text/html": [
       "<style scoped>\n",
       "  .table-result-container {\n",
       "    max-height: 300px;\n",
       "    overflow: auto;\n",
       "  }\n",
       "  table, th, td {\n",
       "    border: 1px solid black;\n",
       "    border-collapse: collapse;\n",
       "  }\n",
       "  th, td {\n",
       "    padding: 5px;\n",
       "  }\n",
       "  th {\n",
       "    text-align: left;\n",
       "  }\n",
       "</style><div class='table-result-container'><table class='table-result'><thead style='background-color: white'><tr><th>path</th><th>name</th><th>size</th><th>modificationTime</th></tr></thead><tbody><tr><td>dbfs:/mnt/cervejas/bronze/</td><td>bronze/</td><td>0</td><td>0</td></tr><tr><td>dbfs:/mnt/cervejas/ouro/</td><td>ouro/</td><td>0</td><td>0</td></tr><tr><td>dbfs:/mnt/cervejas/prata/</td><td>prata/</td><td>0</td><td>0</td></tr></tbody></table></div>"
      ]
     },
     "metadata": {
      "application/vnd.databricks.v1+output": {
       "addedWidgets": {},
       "aggData": [],
       "aggError": "",
       "aggOverflow": false,
       "aggSchema": [],
       "aggSeriesLimitReached": false,
       "aggType": "",
       "arguments": {},
       "columnCustomDisplayInfos": {},
       "data": [
        [
         "dbfs:/mnt/cervejas/bronze/",
         "bronze/",
         0,
         0
        ],
        [
         "dbfs:/mnt/cervejas/ouro/",
         "ouro/",
         0,
         0
        ],
        [
         "dbfs:/mnt/cervejas/prata/",
         "prata/",
         0,
         0
        ]
       ],
       "datasetInfos": [],
       "dbfsResultPath": null,
       "isJsonSchema": true,
       "metadata": {
        "isDbfsCommandResult": false
       },
       "overflow": false,
       "plotOptions": {
        "customPlotOptions": {},
        "displayType": "table",
        "pivotAggregation": null,
        "pivotColumns": null,
        "xColumns": null,
        "yColumns": null
       },
       "removedWidgets": [],
       "schema": [
        {
         "metadata": "{}",
         "name": "path",
         "type": "\"string\""
        },
        {
         "metadata": "{}",
         "name": "name",
         "type": "\"string\""
        },
        {
         "metadata": "{}",
         "name": "size",
         "type": "\"long\""
        },
        {
         "metadata": "{}",
         "name": "modificationTime",
         "type": "\"long\""
        }
       ],
       "type": "table"
      }
     },
     "output_type": "display_data"
    }
   ],
   "source": [
    "%fs ls /mnt/cervejas"
   ]
  },
  {
   "cell_type": "code",
   "execution_count": 0,
   "metadata": {
    "application/vnd.databricks.v1+cell": {
     "cellMetadata": {
      "byteLimit": 2048000,
      "rowLimit": 10000
     },
     "inputWidgets": {},
     "nuid": "b37a4181-52d6-41fe-803a-5a52c910a16d",
     "showTitle": false,
     "title": ""
    }
   },
   "outputs": [
    {
     "output_type": "stream",
     "name": "stdout",
     "output_type": "stream",
     "text": [
      "o arquivo contem 8257 linhas\n"
     ]
    }
   ],
   "source": [
    "import requests\n",
    "import json\n",
    "\n",
    "url = 'https://api.openbrewerydb.org/v1/breweries'\n",
    "cervejas = []\n",
    "page = 1\n",
    "\n",
    "while True:\n",
    "    response = requests.get(f'{url}?page={page}&per_page=50')\n",
    "    data = json.loads(response.text)\n",
    "    if not data:\n",
    "        break\n",
    "    cervejas.extend(data)\n",
    "    page += 1\n",
    "print(f'o arquivo contem {len(cervejas)} linhas')\n",
    "\n"
   ]
  },
  {
   "cell_type": "code",
   "execution_count": 0,
   "metadata": {
    "application/vnd.databricks.v1+cell": {
     "cellMetadata": {
      "byteLimit": 2048000,
      "rowLimit": 10000
     },
     "inputWidgets": {},
     "nuid": "7cd2b4b7-1b8b-4852-97a5-ccc3d4782881",
     "showTitle": false,
     "title": ""
    }
   },
   "outputs": [
    {
     "output_type": "stream",
     "name": "stdout",
     "output_type": "stream",
     "text": [
      "Dados salvos com sucesso na camada bronze\n"
     ]
    }
   ],
   "source": [
    "df = spark.createDataFrame(cervejas)\n",
    "\n",
    "output_path = \"/mnt/cervejas/bronze/cervejas\"\n",
    "\n",
    "df.write.mode(\"overwrite\").json(output_path)\n",
    "\n",
    "print(\"Dados salvos com sucesso na camada bronze\")"
   ]
  }
 ],
 "metadata": {
  "application/vnd.databricks.v1+notebook": {
   "dashboards": [],
   "environmentMetadata": null,
   "language": "python",
   "notebookMetadata": {
    "mostRecentlyExecutedCommandWithImplicitDF": {
     "commandId": 2015357789648415,
     "dataframes": [
      "_sqldf"
     ]
    },
    "pythonIndentUnit": 4
   },
   "notebookName": "bronze",
   "widgets": {}
  }
 },
 "nbformat": 4,
 "nbformat_minor": 0
}
